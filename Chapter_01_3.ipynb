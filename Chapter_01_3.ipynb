{
 "cells": [
  {
   "cell_type": "markdown",
   "metadata": {},
   "source": [
    "# 実践 Python 3 輪読会\n",
    "\n",
    "PyLadies Tokyo 輪読会 #3 (2016-03-17)  \n",
    "本家ページ：http://www.qtrac.eu/pipbook.html"
   ]
  },
  {
   "cell_type": "markdown",
   "metadata": {},
   "source": [
    "# 生成に関するデザインパターン\n",
    "\n",
    "おさらいしましょう！\n",
    "\n",
    "- 本の中で話されていたオブジェクトの一般的な生成手順って？\n",
    "  - クラスとは？\n",
    "  - コンストラクタとは？\n",
    "\n",
    "- 「Pythonic な AbstractFactory」のとこで出てきたテクニック\n",
    "  - `@classmethod` を使うと，オブジェクトを生成せずにメソッドを使える\n",
    "  - class の中に class を定義して依存した処理を閉じ込めることで名前空間を綺麗にできる\n",
    "  \n",
    "- 「Builder Pattern」のとこで出てきたテクニック\n",
    "  - メタクラスはクラスの雛形になる．Pythonの標準のメタクラスは `type`\n",
    "    - Pythonの2系までは `object` を継承していないとメタクラスが `type` にならなかったりして面倒くさい\n",
    "  - `abc.ABCMeta` を利用することで抽象クラスを定義出来る (でも一般的なメタクラスとは振る舞いが違う)\n",
    "  - シーケンスやディクショナリのアンパック便利．**locals()とかよく使う"
   ]
  },
  {
   "cell_type": "markdown",
   "metadata": {
    "collapsed": true
   },
   "source": [
    "## 1.3 Factory Method パターン\n",
    "\n",
    "- オブジェクトが要求されたときに，どのクラスをインスタンス化すべきかをサブクラスに選ばせたい場合に利用\n",
    "- 前もってインスタンス化すべきクラスが分からない場合において有効\n",
    "\n",
    "例によってなんのこっちゃと思うので例を見ていきます"
   ]
  },
  {
   "cell_type": "markdown",
   "metadata": {},
   "source": [
    "ゲームボードを作成するプログラムについて考える (gameboard1.py〜gameboard4.py)  \n",
    "（例えばチェッカー盤やチェス盤を生成する）\n",
    "\n",
    "流れは以下の通り\n",
    "\n",
    "1. ボードの抽象クラスを作る\n",
    "2. 抽象クラスをサブクラス化することで各ゲームの専用ボードを生成する\n",
    "    - 駒の初期配置がそれぞれ異なる\n",
    "    - そのボードで使用する専用の駒クラスが属する (e.g. BlackDraught，WhiteDraught)"
   ]
  },
  {
   "cell_type": "code",
   "execution_count": null,
   "metadata": {
    "collapsed": true
   },
   "outputs": [],
   "source": [
    "def main():\n",
    "    checkers = CheckersBoard()  # チェッカー盤\n",
    "    print(checkers)\n",
    "\n",
    "    chess = ChessBoard()             # チェス盤\n",
    "    print(chess)"
   ]
  },
  {
   "cell_type": "markdown",
   "metadata": {},
   "source": [
    "`main()` は全てのコードで同じ  \n",
    "それぞれの種類のボードを作成して出力しているだけ"
   ]
  },
  {
   "cell_type": "code",
   "execution_count": null,
   "metadata": {
    "collapsed": true
   },
   "outputs": [],
   "source": [
    "BLACK, WHITE = (\"BLACK\", \"WHITE\")  # 正方形の背景色を決める\n",
    "\n",
    "class AbstractBoard:\n",
    "\n",
    "    def __init__(self, rows, columns):\n",
    "        self.board = [[None for _ in range(columns)] for _ in range(rows)]\n",
    "        self.populate_board()\n",
    "\n",
    "    # 専用のboardを作る処理\n",
    "    def populate_board(self):\n",
    "        raise NotImplementedError()\n",
    "\n",
    "    # テキスト形式でboardを表示\n",
    "    def __str__(self):\n",
    "        squares = []\n",
    "        for y, row in enumerate(self.board):\n",
    "            for x, piece in enumerate(row):\n",
    "                # console()は，ある背景色の上にある駒があることを表現する\n",
    "                square = console(piece, BLACK if (y + x) % 2 else WHITE)\n",
    "                squares.append(square)\n",
    "            squares.append(\"\\n\")\n",
    "        return \"\".join(squares)"
   ]
  },
  {
   "cell_type": "markdown",
   "metadata": {},
   "source": [
    "`AbstractBoard` クラスも全てのコードで同じ  \n",
    "`abc.ABCMeta` を利用することも出来るが，ここでは `NotImplementedError` を発生させる形にして Abstract Class を表現している．"
   ]
  },
  {
   "cell_type": "markdown",
   "metadata": {},
   "source": [
    "---\n",
    "\n",
    "__Pythonの特殊メソッドについて__\n",
    "\n",
    "アンダースコアが2つついたメソッドは，Pythonにおいて `特殊メソッド` として扱われます．  \n",
    "参考：http://diveintopython3-ja.rdy.jp/special-method-names.html"
   ]
  },
  {
   "cell_type": "code",
   "execution_count": null,
   "metadata": {
    "collapsed": true
   },
   "outputs": [],
   "source": [
    "class Dog:\n",
    "    pass\n",
    "\n",
    "dog = Dog()\n",
    "print(dog)"
   ]
  },
  {
   "cell_type": "code",
   "execution_count": null,
   "metadata": {
    "collapsed": true
   },
   "outputs": [],
   "source": [
    "str(dog)"
   ]
  },
  {
   "cell_type": "code",
   "execution_count": null,
   "metadata": {
    "collapsed": true
   },
   "outputs": [],
   "source": [
    "class Dog:\n",
    "    def __str__(self):\n",
    "        return '犬'\n",
    "\n",
    "dog = Dog()\n",
    "print(dog)"
   ]
  },
  {
   "cell_type": "code",
   "execution_count": null,
   "metadata": {
    "collapsed": true
   },
   "outputs": [],
   "source": [
    "str(dog)"
   ]
  },
  {
   "cell_type": "markdown",
   "metadata": {},
   "source": [
    "#### Pythonの `__new__` と `__init__` について\n",
    "\n",
    "Pythonのクラスオブジェクトは，`__new__`でインスタンス化するクラスを返し，`__init__`で初期化処理が行われる．"
   ]
  },
  {
   "cell_type": "code",
   "execution_count": null,
   "metadata": {
    "collapsed": true
   },
   "outputs": [],
   "source": [
    "class Emacs:\n",
    "    def __new__(cls):\n",
    "        print('Emacs')\n",
    "        return super().__new__(cls)\n",
    "    \n",
    "    def __init__(self):\n",
    "        print('emacs')\n",
    "        super().__init__()\n",
    "        \n",
    "Emacs()"
   ]
  },
  {
   "cell_type": "markdown",
   "metadata": {},
   "source": [
    "`__new__`をいじると自分のクラスではないインスタンスを返すことも出来る"
   ]
  },
  {
   "cell_type": "code",
   "execution_count": null,
   "metadata": {
    "collapsed": true
   },
   "outputs": [],
   "source": [
    "class Vim:\n",
    "    def __new__(cls):\n",
    "        return 'Emacs'\n",
    "    \n",
    "vim = Vim()\n",
    "vim"
   ]
  },
  {
   "cell_type": "code",
   "execution_count": null,
   "metadata": {
    "collapsed": true
   },
   "outputs": [],
   "source": [
    "type(vim)"
   ]
  },
  {
   "cell_type": "markdown",
   "metadata": {},
   "source": [
    "※ `__new__` と `__init__` が両方あるのって何が嬉しいの？的な話についてはシングルトンの話をするときにでも話します  \n",
    "ヒント：`__new__` はクラスメソッドで `__init__` はインスタンスメソッド\n",
    "\n",
    "---"
   ]
  },
  {
   "cell_type": "markdown",
   "metadata": {},
   "source": [
    "※文字列はインターン化されてるから速いよみたいな話がありますが，そもそもインターン化とは何ぞやみたいな話はここ  \n",
    "http://d.hatena.ne.jp/hnw/20151"
   ]
  },
  {
   "cell_type": "code",
   "execution_count": null,
   "metadata": {
    "collapsed": true
   },
   "outputs": [],
   "source": [
    "class CheckersBoard(AbstractBoard):\n",
    "\n",
    "    def __init__(self):\n",
    "        super().__init__(10, 10)\n",
    "\n",
    "    def populate_board(self):\n",
    "        for x in range(0, 9, 2):\n",
    "            for row in range(4):\n",
    "                column = x + ((row + 1) % 2)\n",
    "                self.board[row][column] = BlackDraught()\n",
    "                self.board[row + 6][column] = WhiteDraught()\n",
    "\n",
    "                \n",
    "class ChessBoard(AbstractBoard):\n",
    "\n",
    "    def __init__(self):\n",
    "        super().__init__(8, 8)\n",
    "\n",
    "    def populate_board(self):\n",
    "        self.board[0][0] = BlackChessRook()\n",
    "        self.board[0][1] = BlackChessKnight()\n",
    "        self.board[0][2] = BlackChessBishop()\n",
    "        self.board[0][3] = BlackChessQueen()\n",
    "        self.board[0][4] = BlackChessKing()\n",
    "        self.board[0][5] = BlackChessBishop()\n",
    "        self.board[0][6] = BlackChessKnight()\n",
    "        self.board[0][7] = BlackChessRook()\n",
    "        self.board[7][0] = WhiteChessRook()\n",
    "        self.board[7][1] = WhiteChessKnight()\n",
    "        self.board[7][2] = WhiteChessBishop()\n",
    "        self.board[7][3] = WhiteChessQueen()\n",
    "        self.board[7][4] = WhiteChessKing()\n",
    "        self.board[7][5] = WhiteChessBishop()\n",
    "        self.board[7][6] = WhiteChessKnight()\n",
    "        self.board[7][7] = WhiteChessRook()\n",
    "        for column in range(8):\n",
    "            self.board[1][column] = BlackChessPawn()\n",
    "            self.board[6][column] = WhiteChessPawn()"
   ]
  },
  {
   "cell_type": "markdown",
   "metadata": {},
   "source": [
    "CheckersBoardは，10 x 10のチェッカー盤を作成する（※これはFactoryMethodではないので注意．ChessBoardは省略）  \n",
    "`populate_board` の中でメソッドがハードコーディングされている事に注目\n",
    "\n",
    "各駒の基底クラスは `Piece` で表される"
   ]
  },
  {
   "cell_type": "code",
   "execution_count": null,
   "metadata": {
    "collapsed": true
   },
   "outputs": [],
   "source": [
    "class Piece(str):\n",
    "\n",
    "    __slots__ = ()"
   ]
  },
  {
   "cell_type": "markdown",
   "metadata": {},
   "source": [
    "`Piece` は `str` のサブクラスである．  \n",
    "`__slots__ = ()` とすることで，このインスタンスはデータを持たないことを保証している\n",
    "\n",
    "具体的なPieceのサブクラスの例は以下のような感じになる．  \n",
    "似たようなクラスが14個も定義されていて，明らかに冗長な感じが見てとれる．"
   ]
  },
  {
   "cell_type": "code",
   "execution_count": null,
   "metadata": {
    "collapsed": true
   },
   "outputs": [],
   "source": [
    "class BlackDraught(Piece):\n",
    "\n",
    "    __slots__ = ()\n",
    "\n",
    "    def __new__(Class):\n",
    "        return super().__new__(Class, \"\\N{black draughts man}\")"
   ]
  },
  {
   "cell_type": "code",
   "execution_count": null,
   "metadata": {
    "collapsed": true
   },
   "outputs": [],
   "source": [
    "print('\\N{black draughts man}')  # Jupyter Notebook上ではうまく表現出来ない"
   ]
  },
  {
   "cell_type": "markdown",
   "metadata": {},
   "source": [
    "改良しよう．  \n",
    "以下は `create_pease()` というFactoryMethodを使った例である．  \n",
    "`populate_board()` 内でのクラスの宣言が消えた！"
   ]
  },
  {
   "cell_type": "code",
   "execution_count": null,
   "metadata": {
    "collapsed": true
   },
   "outputs": [],
   "source": [
    "class CheckersBoard(AbstractBoard):\n",
    "\n",
    "    def __init__(self):\n",
    "        super().__init__(10, 10)\n",
    "\n",
    "    def populate_board(self):\n",
    "        for x in range(0, 9, 2):\n",
    "            for y in range(4):\n",
    "                column = x + ((y + 1) % 2)\n",
    "                for row, color in ((y, \"black\"), (y + 6, \"white\")):\n",
    "                    self.board[row][column] = create_piece(\"draught\",\n",
    "                            color)\n",
    "\n",
    "\n",
    "class ChessBoard(AbstractBoard):\n",
    "\n",
    "    def __init__(self):\n",
    "        super().__init__(8, 8)\n",
    "\n",
    "    def populate_board(self):\n",
    "        for row, color in ((0, \"black\"), (7, \"white\")):\n",
    "            for columns, kind in (((0, 7), \"rook\"), ((1, 6), \"knight\"),\n",
    "                    ((2, 5), \"bishop\"), ((3,), \"queen\"), ((4,), \"king\")):\n",
    "                for column in columns:\n",
    "                    self.board[row][column] = create_piece(kind, color)\n",
    "        for column in range(8):\n",
    "            for row, color in ((1, \"black\"), (6, \"white\")):\n",
    "                self.board[row][column] = create_piece(\"pawn\", color)"
   ]
  },
  {
   "cell_type": "markdown",
   "metadata": {},
   "source": [
    "`create_piece()` を見てみる．  \n",
    "引数に応じて適切な種類のオブジェクトを返していることが分かる（分かりづらい）"
   ]
  },
  {
   "cell_type": "code",
   "execution_count": null,
   "metadata": {
    "collapsed": true
   },
   "outputs": [],
   "source": [
    "def create_piece(kind, color):\n",
    "    if kind == \"draught\":\n",
    "        return eval(\"{}{}()\".format(color.title(), kind.title()))\n",
    "    return eval(\"{}Chess{}()\".format(color.title(), kind.title()))"
   ]
  },
  {
   "cell_type": "markdown",
   "metadata": {},
   "source": [
    "※ビルトイン関数の `eval()` が使われていることに注意\n",
    "\n",
    "同様に，14個あったPieceのサブクラスも以下の通り動的に生成することが出来る"
   ]
  },
  {
   "cell_type": "code",
   "execution_count": null,
   "metadata": {
    "collapsed": true
   },
   "outputs": [],
   "source": [
    "for code in itertools.chain((0x26C0, 0x26C2), range(0x2654, 0x2660)):\n",
    "    char = chr(code)\n",
    "    name = unicodedata.name(char).title().replace(\" \", \"\")\n",
    "    if name.endswith(\"sMan\"):\n",
    "        name = name[:-4]\n",
    "    exec(\"\"\"\\\n",
    "class {}(Piece):\n",
    "\n",
    "    __slots__ = ()\n",
    "\n",
    "    def __new__(Class):\n",
    "        return super().__new__(Class, \"{}\")\"\"\".format(name, char))"
   ]
  },
  {
   "cell_type": "code",
   "execution_count": null,
   "metadata": {
    "collapsed": true
   },
   "outputs": [],
   "source": [
    "import unicodedata\n",
    "for code in (0x26C0, 0x26C2, 0x2654, 0x2660):\n",
    "    char = chr(code)\n",
    "    print(unicodedata.name(char))                                         # Unicode名\n",
    "    print(unicodedata.name(char).title().replace(\" \", \"\"))  # title\n",
    "    print()"
   ]
  },
  {
   "cell_type": "markdown",
   "metadata": {},
   "source": [
    "※ビルトイン関数の `exec()` が使われていることに注意\n",
    "\n",
    "`eval()` や `exec()` は何が書かれている場合でも実行されてしまうので，とても危険である   可能な限り使いたくない．どうにか改善できないか？\n",
    "\n",
    "まずタイプミスによる誤実行を防ぐために，駒や色の名前は変数として定義してみよう"
   ]
  },
  {
   "cell_type": "code",
   "execution_count": null,
   "metadata": {
    "collapsed": true
   },
   "outputs": [],
   "source": [
    "DRAUGHT, PAWN, ROOK, KNIGHT, BISHOP, KING, QUEEN = (\"DRAUGHT\", \"PAWN\",\n",
    "        \"ROOK\", \"KNIGHT\", \"BISHOP\", \"KING\", \"QUEEN\")\n",
    "BLACK, WHITE = (\"BLACK\", \"WHITE\")\n",
    "\n",
    "class CheckersBoard(AbstractBoard):\n",
    "\n",
    "    def __init__(self):\n",
    "        super().__init__(10, 10)\n",
    "\n",
    "\n",
    "    def populate_board(self):\n",
    "        for x in range(0, 9, 2):\n",
    "            for y in range(4):\n",
    "                column = x + ((y + 1) % 2)\n",
    "                for row, color in ((y, BLACK), (y + 6, WHITE)):\n",
    "                    self.board[row][column] = self.create_piece(DRAUGHT,\n",
    "                            color)"
   ]
  },
  {
   "cell_type": "markdown",
   "metadata": {},
   "source": [
    "更に`AbstractBoard`も改良する．`create_piece()`を定義して，駒と色に対応するクラスを特定出来るようにする．これでまず `eval` を使わなくてもよくなった"
   ]
  },
  {
   "cell_type": "code",
   "execution_count": null,
   "metadata": {
    "collapsed": true
   },
   "outputs": [],
   "source": [
    "class AbstractBoard:\n",
    "\n",
    "    __classForPiece = {(DRAUGHT, BLACK): BlackDraught,\n",
    "            (PAWN, BLACK): BlackChessPawn,\n",
    "            (ROOK, BLACK): BlackChessRook,\n",
    "            (KNIGHT, BLACK): BlackChessKnight,\n",
    "            (BISHOP, BLACK): BlackChessBishop,\n",
    "            (KING, BLACK): BlackChessKing,\n",
    "            (QUEEN, BLACK): BlackChessQueen,\n",
    "            (DRAUGHT, WHITE): WhiteDraught,\n",
    "            (PAWN, WHITE): WhiteChessPawn,\n",
    "            (ROOK, WHITE): WhiteChessRook,\n",
    "            (KNIGHT, WHITE): WhiteChessKnight,\n",
    "            (BISHOP, WHITE): WhiteChessBishop,\n",
    "            (KING, WHITE): WhiteChessKing,\n",
    "            (QUEEN, WHITE): WhiteChessQueen}\n",
    "\n",
    "    def __init__(self, rows, columns):\n",
    "        self.board = [[None for _ in range(columns)] for _ in range(rows)]\n",
    "        self.populate_board()\n",
    "\n",
    "\n",
    "    def create_piece(self, kind, color):\n",
    "        return AbstractBoard.__classForPiece[kind, color]()\n",
    "\n",
    "\n",
    "    def populate_board(self):\n",
    "        raise NotImplementedError()"
   ]
  },
  {
   "cell_type": "markdown",
   "metadata": {},
   "source": [
    "typeを利用して，以下の通り宣言することで新しいクラスを作成する  \n",
    "テキストを `exec()` して新しいクラスを作成するのに比べ非常に安全である\n",
    "\n",
    "```\n",
    "type(型の名前, 基底クラスのタプル, クラス属性のディクショナリ)\n",
    "```\n",
    "\n",
    "`sys.modules` は，ロード済みのモジュール名とモジュールオブジェクトが格納されている辞書である．そこに生成した駒のクラスを格納している"
   ]
  },
  {
   "cell_type": "code",
   "execution_count": null,
   "metadata": {
    "collapsed": true
   },
   "outputs": [],
   "source": [
    "def make_new_method(char):\n",
    "    def new(Class):\n",
    "        return Piece.__new__(Class, char)\n",
    "    return new\n",
    "\n",
    "for code in itertools.chain((0x26C0, 0x26C2), range(0x2654, 0x2660)):\n",
    "    char = chr(code)\n",
    "    name = unicodedata.name(char).title().replace(\" \", \"\")\n",
    "    if name.endswith(\"sMan\"):\n",
    "        name = name[:-4]\n",
    "    new = make_new_method(char)\n",
    "    Class = type(name, (Piece,), dict(__slots__=(), __new__=new))\n",
    "    setattr(sys.modules[__name__], name, Class)"
   ]
  },
  {
   "cell_type": "markdown",
   "metadata": {},
   "source": [
    "`setattr(sys.modules[__name__], name, Class)` を利用する代わりに `globals()` を利用することもできる"
   ]
  },
  {
   "cell_type": "code",
   "execution_count": null,
   "metadata": {
    "collapsed": true
   },
   "outputs": [],
   "source": [
    "globals()[name] = Class"
   ]
  },
  {
   "cell_type": "code",
   "execution_count": null,
   "metadata": {
    "collapsed": true
   },
   "outputs": [],
   "source": [
    "globals()  # グローバルな名前空間にアクセス出来る"
   ]
  },
  {
   "cell_type": "markdown",
   "metadata": {},
   "source": [
    "以下のような変態チックなことも出来るけどお話しません"
   ]
  },
  {
   "cell_type": "code",
   "execution_count": null,
   "metadata": {
    "collapsed": true
   },
   "outputs": [],
   "source": [
    "def make_new_method(char):\n",
    "    def new(Class):\n",
    "        return Piece.__new__(Class, char)\n",
    "    return new\n",
    "\n",
    "for code in itertools.chain((0x26C0, 0x26C2), range(0x2654, 0x2660)):\n",
    "    char = chr(code)\n",
    "    name = unicodedata.name(char).title().replace(\" \", \"\")\n",
    "    if name.endswith(\"sMan\"):\n",
    "        name = name[:-4]\n",
    "    new = (lambda char: lambda Class: Piece.__new__(Class, char))(char)\n",
    "    new.__name__ = \"__new__\"\n",
    "    Class = type(name, (Piece,), dict(__slots__=(), __new__=new))\n",
    "    setattr(sys.modules[__name__], name, Class)"
   ]
  },
  {
   "cell_type": "markdown",
   "metadata": {},
   "source": [
    "`populate_board` のメソッドは例えば以下のようになっている  \n",
    "どの駒がどこに置かれるといった情報がハードコーディングされているが，ファイルから情報を読むことも可能である．"
   ]
  },
  {
   "cell_type": "code",
   "execution_count": null,
   "metadata": {
    "collapsed": true
   },
   "outputs": [],
   "source": [
    "def populate_board(self):\n",
    "    for row, color in ((0, BLACK), (7, WHITE)):\n",
    "        for columns, kind in (((0, 7), ROOK), ((1, 6), KNIGHT),\n",
    "                ((2, 5), BISHOP), ((3,), QUEEN), ((4,), KING)):\n",
    "            for column in columns:\n",
    "                self.board[row][column] = self.create_piece(kind, color)\n",
    "    for column in range(8):\n",
    "        for row, color in ((1, BLACK), (6, WHITE)):\n",
    "            self.board[row][column] = self.create_piece(PAWN, color)"
   ]
  },
  {
   "cell_type": "markdown",
   "metadata": {},
   "source": [
    "`globals()` を利用すると `create_piece()` をより簡単に書くことも出来る  \n",
    "こちらの方が `AbstractBoard` 中に `create_piece()` を持っているよりも綺麗に書けている"
   ]
  },
  {
   "cell_type": "code",
   "execution_count": null,
   "metadata": {
    "collapsed": true
   },
   "outputs": [],
   "source": [
    "def create_piece(kind, color):\n",
    "    color = \"White\" if color == WHITE else \"Black\"\n",
    "    name = {DRAUGHT: \"Draught\", PAWN: \"ChessPawn\", ROOK: \"ChessRook\",\n",
    "            KNIGHT: \"ChessKnight\", BISHOP: \"ChessBishop\",\n",
    "            KING: \"ChessKing\", QUEEN: \"ChessQueen\"}[kind]\n",
    "    return globals()[color + name]()"
   ]
  }
 ],
 "metadata": {
  "kernelspec": {
   "display_name": "Python 3",
   "language": "python",
   "name": "python3"
  },
  "language_info": {
   "codemirror_mode": {
    "name": "ipython",
    "version": 3
   },
   "file_extension": ".py",
   "mimetype": "text/x-python",
   "name": "python",
   "nbconvert_exporter": "python",
   "pygments_lexer": "ipython3",
   "version": "3.5.1"
  }
 },
 "nbformat": 4,
 "nbformat_minor": 0
}
