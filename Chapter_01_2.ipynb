{
 "cells": [
  {
   "cell_type": "markdown",
   "metadata": {},
   "source": [
    "# 実践 Python 3 輪読会\n",
    "\n",
    "PyLadies Tokyo 輪読会 #2 (2016-02-03)  \n",
    "本家ページ：http://www.qtrac.eu/pipbook.html"
   ]
  },
  {
   "cell_type": "markdown",
   "metadata": {},
   "source": [
    "# 生成に関するデザインパターン\n",
    "\n",
    "おさらいしましょう！\n",
    "\n",
    "- 本の中で話されていたオブジェクトの一般的な生成手順って？\n",
    "  - クラスとは？\n",
    "  - コンストラクタとは？\n",
    "  \n",
    "\n",
    "- 「Pythonic な AbstractFactory」のとこで出てきたテクニック\n",
    "  - `@classmethod` を使うと，オブジェクトを生成せずにメソッドを使える\n",
    "  - class の中に class を定義して依存した処理を閉じ込めることで名前空間を綺麗にできる"
   ]
  },
  {
   "cell_type": "markdown",
   "metadata": {},
   "source": [
    "## 1.2 Builder パターン\n",
    "\n",
    "- 他のオブジェクトから構成される複雑なオブジェクトを生成するのに利用 ← Abstract Factoryに似てる\n",
    "- 複雑なオブジェクトを生成するメソッドを提供するだけでなく，複雑なオブジェクト全体の内容も保持する\n",
    "\n",
    "例によってなんのこっちゃと思うので例を見ていきます"
   ]
  },
  {
   "cell_type": "markdown",
   "metadata": {},
   "source": [
    "フォームを生成するプログラムについて考える (formbuilder.py)  \n",
    "ここでは以下の2つの `Builder` を考える\n",
    "\n",
    "- HTMLを使ったWebフォームを生成する\n",
    "- PythonとTkinterを用いたGUIフォームを生成する"
   ]
  },
  {
   "cell_type": "code",
   "execution_count": null,
   "metadata": {
    "collapsed": true
   },
   "outputs": [],
   "source": [
    "def main():\n",
    "    htmlForm = create_login_form(HtmlFormBuilder())  # HTML形式のフォームを生成\n",
    "    with open('login.html', \"w\", encoding=\"utf-8\") as f:  # 生成したフォームを保存\n",
    "        f.write(htmlForm)\n",
    "    print(\"wrote loing.html\")\n",
    "\n",
    "    tkForm = create_login_form(TkFormBuilder())       # Tkinterを利用したフォームを生成\n",
    "    with open('login.py', \"w\", encoding=\"utf-8\") as f:  # 生成したフォームを保存\n",
    "        f.write(tkForm)\n",
    "    print(\"wrote login.py\")"
   ]
  },
  {
   "cell_type": "markdown",
   "metadata": {},
   "source": [
    "両方で呼びだされている `create_login_form` って何？"
   ]
  },
  {
   "cell_type": "code",
   "execution_count": null,
   "metadata": {
    "collapsed": true
   },
   "outputs": [],
   "source": [
    "def create_login_form(builder):\n",
    "    builder.add_title(\"Login\")\n",
    "    builder.add_label(\"Username\", 0, 0, target=\"username\")\n",
    "    builder.add_entry(\"username\", 0, 1)\n",
    "    builder.add_label(\"Password\", 1, 0, target=\"password\")\n",
    "    builder.add_entry(\"password\", 1, 1, kind=\"password\")\n",
    "    builder.add_button(\"Login\", 2, 0)\n",
    "    builder.add_button(\"Cancel\", 2, 1)\n",
    "    return builder.form()"
   ]
  },
  {
   "cell_type": "markdown",
   "metadata": {},
   "source": [
    "`builder` に `HtmlFormBuilder` や `TkFormBuilder` が渡されることで任意のフォームを生成できる  \n",
    "ここまでは何となく `AbstractFactory` と一緒\n",
    "\n",
    "__何が違うのか？__  \n",
    "`HtmlFormBuilder` と `TkFormBuilder` はどちらも `AbstractFormBuilder` という抽象クラスを継承している"
   ]
  },
  {
   "cell_type": "markdown",
   "metadata": {},
   "source": [
    "------\n",
    "\n",
    "__Pythonのメタクラスについて__\n",
    "\n",
    "メタクラスとはクラスの雛形のことである．標準では `type` が利用される  \n",
    "( ※ `class object` の話はしない，いいね？ )"
   ]
  },
  {
   "cell_type": "code",
   "execution_count": 21,
   "metadata": {
    "collapsed": false
   },
   "outputs": [
    {
     "name": "stdout",
     "output_type": "stream",
     "text": [
      "<class 'type'>\n"
     ]
    }
   ],
   "source": [
    "class Car:\n",
    "    pass\n",
    "\n",
    "print(type(Car))"
   ]
  },
  {
   "cell_type": "code",
   "execution_count": 22,
   "metadata": {
    "collapsed": false
   },
   "outputs": [
    {
     "name": "stdout",
     "output_type": "stream",
     "text": [
      "<class 'type'>\n"
     ]
    }
   ],
   "source": [
    "print(type(type))"
   ]
  },
  {
   "cell_type": "markdown",
   "metadata": {},
   "source": [
    "`type` をメタクラスとすることで，当たり前に利用している以下の様な機能が使えるようになる\n",
    "\n",
    "- クラスからインスタンスを生成できる\n",
    "- クラスの属性へアクセスできる (cls.hogeoge)\n",
    "- メソッドを定義できる"
   ]
  },
  {
   "cell_type": "markdown",
   "metadata": {},
   "source": [
    "__Pythonの抽象クラスについて__\n",
    "\n",
    "Pythonの抽象クラスの機能は， `abc` というモジュールによって提供される．  \n",
    "抽象クラスを生成するために，メタクラスを `abc.ABCMeta` に変更する．"
   ]
  },
  {
   "cell_type": "code",
   "execution_count": 109,
   "metadata": {
    "collapsed": false
   },
   "outputs": [],
   "source": [
    "from abc import ABCMeta, abstractmethod\n",
    "\n",
    "class Car(metaclass=abc.ABCMeta):\n",
    "    \n",
    "    def stop(self):\n",
    "        print('駐車中')"
   ]
  },
  {
   "cell_type": "code",
   "execution_count": 110,
   "metadata": {
    "collapsed": false
   },
   "outputs": [
    {
     "name": "stdout",
     "output_type": "stream",
     "text": [
      "<class 'abc.ABCMeta'>\n"
     ]
    }
   ],
   "source": [
    "# メタクラスが abc.ABCMeta に変更されていることを確認\n",
    "print(type(Car))"
   ]
  },
  {
   "cell_type": "code",
   "execution_count": 111,
   "metadata": {
    "collapsed": false
   },
   "outputs": [
    {
     "name": "stdout",
     "output_type": "stream",
     "text": [
      "<__main__.Car object at 0x10a67a438>\n",
      "駐車中\n"
     ]
    }
   ],
   "source": [
    "# 実はこのままだとインスタンスを作れてしまう\n",
    "car = Car()\n",
    "\n",
    "print(car)\n",
    "car.stop()"
   ]
  },
  {
   "cell_type": "code",
   "execution_count": 102,
   "metadata": {
    "collapsed": true
   },
   "outputs": [],
   "source": [
    "class Car(metaclass=abc.ABCMeta):\n",
    "\n",
    "    def stop(self):\n",
    "        print('駐車中')\n",
    "\n",
    "    @abstractmethod\n",
    "    def drive(self):\n",
    "        pass"
   ]
  },
  {
   "cell_type": "code",
   "execution_count": 103,
   "metadata": {
    "collapsed": false
   },
   "outputs": [
    {
     "ename": "TypeError",
     "evalue": "Can't instantiate abstract class Car with abstract methods drive",
     "output_type": "error",
     "traceback": [
      "\u001b[0;31m---------------------------------------------------------------------------\u001b[0m",
      "\u001b[0;31mTypeError\u001b[0m                                 Traceback (most recent call last)",
      "\u001b[0;32m<ipython-input-103-b3145aa4e2ad>\u001b[0m in \u001b[0;36m<module>\u001b[0;34m()\u001b[0m\n\u001b[1;32m      1\u001b[0m \u001b[0;31m# abstractmethod が定義されていると怒られる\u001b[0m\u001b[0;34m\u001b[0m\u001b[0;34m\u001b[0m\u001b[0m\n\u001b[0;32m----> 2\u001b[0;31m \u001b[0mcar\u001b[0m \u001b[0;34m=\u001b[0m \u001b[0mCar\u001b[0m\u001b[0;34m(\u001b[0m\u001b[0;34m)\u001b[0m\u001b[0;34m\u001b[0m\u001b[0m\n\u001b[0m",
      "\u001b[0;31mTypeError\u001b[0m: Can't instantiate abstract class Car with abstract methods drive"
     ]
    }
   ],
   "source": [
    "# abstractmethod が定義されていると怒られる\n",
    "car = Car()"
   ]
  },
  {
   "cell_type": "code",
   "execution_count": 104,
   "metadata": {
    "collapsed": false
   },
   "outputs": [
    {
     "ename": "TypeError",
     "evalue": "Can't instantiate abstract class MyCar with abstract methods drive",
     "output_type": "error",
     "traceback": [
      "\u001b[0;31m---------------------------------------------------------------------------\u001b[0m",
      "\u001b[0;31mTypeError\u001b[0m                                 Traceback (most recent call last)",
      "\u001b[0;32m<ipython-input-104-12085ca06b3b>\u001b[0m in \u001b[0;36m<module>\u001b[0;34m()\u001b[0m\n\u001b[1;32m      3\u001b[0m \u001b[0;34m\u001b[0m\u001b[0m\n\u001b[1;32m      4\u001b[0m \u001b[0;31m# abstractmethod を実装していないので怒られる\u001b[0m\u001b[0;34m\u001b[0m\u001b[0;34m\u001b[0m\u001b[0m\n\u001b[0;32m----> 5\u001b[0;31m \u001b[0mcar\u001b[0m \u001b[0;34m=\u001b[0m \u001b[0mMyCar\u001b[0m\u001b[0;34m(\u001b[0m\u001b[0;34m)\u001b[0m\u001b[0;34m\u001b[0m\u001b[0m\n\u001b[0m",
      "\u001b[0;31mTypeError\u001b[0m: Can't instantiate abstract class MyCar with abstract methods drive"
     ]
    }
   ],
   "source": [
    "class MyCar(Car):\n",
    "    pass\n",
    "\n",
    "# abstractmethod を実装していないので怒られる\n",
    "car = MyCar()"
   ]
  },
  {
   "cell_type": "code",
   "execution_count": 105,
   "metadata": {
    "collapsed": true
   },
   "outputs": [],
   "source": [
    "class MyCar(Car):\n",
    "\n",
    "    # abstractmethodを実装！\n",
    "    def drive(self):\n",
    "        print('海に行くよ')\n",
    "\n",
    "# 今度は怒られない\n",
    "car = MyCar()"
   ]
  },
  {
   "cell_type": "code",
   "execution_count": 107,
   "metadata": {
    "collapsed": false
   },
   "outputs": [
    {
     "name": "stdout",
     "output_type": "stream",
     "text": [
      "駐車中\n",
      "海に行くよ\n"
     ]
    }
   ],
   "source": [
    "# 実装したメソッドをよんでみる\n",
    "car.stop()\n",
    "car.drive()"
   ]
  },
  {
   "cell_type": "markdown",
   "metadata": {},
   "source": [
    "------"
   ]
  },
  {
   "cell_type": "markdown",
   "metadata": {},
   "source": [
    "※ `HtmlFormBuilder` ，`TkFormBuilder` ，`AbstractFormBuilder` の実装については実際にコードを見てみよう  \n",
    "\n",
    "参考：http://qiita.com/disc99/items/840cf9936687f97a482b  \n",
    "参考：http://stackoverflow.com/questions/11977279/builder-pattern-equivalent-in-python"
   ]
  },
  {
   "cell_type": "markdown",
   "metadata": {},
   "source": [
    "抽象基底クラスにするとそのクラスはインスタンス化出来なくなる．    \n",
    "→ C++やJavaなどで書かれたコードをPythonに移植する際に役立つが，実行時にわずかなオーバーヘッドが発生する  \n",
    "→ 多くのPythonプログラマは単にドキュメントで指示を与えるなどの簡単な方法で済ますことが多い"
   ]
  },
  {
   "cell_type": "markdown",
   "metadata": {},
   "source": [
    "------\n",
    "\n",
    "__シーケンスのアンパック ／ ディクショナリのアンパック__\n",
    "\n",
    "シーケンス，またはディクショナリ中の要素を個別にすべて取り出す処理"
   ]
  },
  {
   "cell_type": "code",
   "execution_count": 56,
   "metadata": {
    "collapsed": false
   },
   "outputs": [
    {
     "name": "stdout",
     "output_type": "stream",
     "text": [
      "1\n",
      "2\n",
      "[3, 4, 5, 6]\n"
     ]
    }
   ],
   "source": [
    "sequence = [1, 2, 3, 4, 5, 6]\n",
    "a, b, *rest = sequence\n",
    "\n",
    "print(a)\n",
    "print(b)\n",
    "print(rest)"
   ]
  },
  {
   "cell_type": "markdown",
   "metadata": {},
   "source": [
    "関数呼び出しで使われるケースが多い"
   ]
  },
  {
   "cell_type": "code",
   "execution_count": 115,
   "metadata": {
    "collapsed": false
   },
   "outputs": [
    {
     "name": "stdout",
     "output_type": "stream",
     "text": [
      "a: 1, b: 2, c: 3, d: 4, e: 5\n",
      "a: 1, b: 2, c: 3, d: 4, e: 5\n"
     ]
    }
   ],
   "source": [
    "def hoge(a, b, c, d, e):\n",
    "    print('a: {a}, b: {b}, c: {c}, d: {d}, e: {e}'.format(a=a, b=b, c=c, d=d, e=e))\n",
    "    \n",
    "args = (1, 2)\n",
    "kwargs = {'c': 3, 'd': 4, 'e': 5}\n",
    "\n",
    "hoge(*args, **kwargs)         # こんな感じで渡せたり\n",
    "hoge(1, 2, c=3, d=4, e=5)  # これと同じ"
   ]
  },
  {
   "cell_type": "code",
   "execution_count": 116,
   "metadata": {
    "collapsed": false
   },
   "outputs": [
    {
     "ename": "TypeError",
     "evalue": "hoge() missing 1 required positional argument: 'e'",
     "output_type": "error",
     "traceback": [
      "\u001b[0;31m---------------------------------------------------------------------------\u001b[0m",
      "\u001b[0;31mTypeError\u001b[0m                                 Traceback (most recent call last)",
      "\u001b[0;32m<ipython-input-116-09c2a960dd0a>\u001b[0m in \u001b[0;36m<module>\u001b[0;34m()\u001b[0m\n\u001b[1;32m      5\u001b[0m \u001b[0mkwargs\u001b[0m \u001b[0;34m=\u001b[0m \u001b[0;34m{\u001b[0m\u001b[0;34m'c'\u001b[0m\u001b[0;34m:\u001b[0m \u001b[0;36m3\u001b[0m\u001b[0;34m,\u001b[0m \u001b[0;34m'd'\u001b[0m\u001b[0;34m:\u001b[0m \u001b[0;36m4\u001b[0m\u001b[0;34m}\u001b[0m\u001b[0;34m\u001b[0m\u001b[0m\n\u001b[1;32m      6\u001b[0m \u001b[0;34m\u001b[0m\u001b[0m\n\u001b[0;32m----> 7\u001b[0;31m \u001b[0mhoge\u001b[0m\u001b[0;34m(\u001b[0m\u001b[0;34m*\u001b[0m\u001b[0margs\u001b[0m\u001b[0;34m,\u001b[0m \u001b[0;34m**\u001b[0m\u001b[0mkwargs\u001b[0m\u001b[0;34m)\u001b[0m  \u001b[0;31m# 足りないとちゃんと怒られる\u001b[0m\u001b[0;34m\u001b[0m\u001b[0m\n\u001b[0m",
      "\u001b[0;31mTypeError\u001b[0m: hoge() missing 1 required positional argument: 'e'"
     ]
    }
   ],
   "source": [
    "def hoge(a, b, c, d, e):\n",
    "    print('a: {a}, b: {b}, c: {c}, d: {d}, e: {e}'.format(a=a, b=b, c=c, d=d, e=e))\n",
    "    \n",
    "args = (1, 2)\n",
    "kwargs = {'c': 3, 'd': 4}\n",
    "\n",
    "hoge(*args, **kwargs)  # 足りないとちゃんと怒られる"
   ]
  },
  {
   "cell_type": "code",
   "execution_count": 117,
   "metadata": {
    "collapsed": false
   },
   "outputs": [
    {
     "name": "stdout",
     "output_type": "stream",
     "text": [
      "{'b': 2, 'a': 1, 'c': 3, 'e': 5, 'd': 4}\n",
      "a: 1, b: 2, c: 3, d: 4, e: 5\n"
     ]
    }
   ],
   "source": [
    "def hoge(a, b, c, d, e):\n",
    "    print(locals())                                                                                # ローカルな名前空間の情報\n",
    "    print('a: {a}, b: {b}, c: {c}, d: {d}, e: {e}'.format(**locals()))  # こんな感じで書き直せたり\n",
    "\n",
    "args = (1, 2)\n",
    "kwargs = {'c': 3, 'd': 4, 'e': 5}\n",
    "    \n",
    "hoge(*args, **kwargs)"
   ]
  },
  {
   "cell_type": "markdown",
   "metadata": {},
   "source": [
    "やり過ぎるとスーパー分かりづらくなるので適度に！\n",
    "\n",
    "------"
   ]
  },
  {
   "cell_type": "code",
   "execution_count": null,
   "metadata": {
    "collapsed": true
   },
   "outputs": [],
   "source": []
  }
 ],
 "metadata": {
  "kernelspec": {
   "display_name": "Python 3",
   "language": "python",
   "name": "python3"
  },
  "language_info": {
   "codemirror_mode": {
    "name": "ipython",
    "version": 3
   },
   "file_extension": ".py",
   "mimetype": "text/x-python",
   "name": "python",
   "nbconvert_exporter": "python",
   "pygments_lexer": "ipython3",
   "version": "3.4.3"
  }
 },
 "nbformat": 4,
 "nbformat_minor": 0
}
