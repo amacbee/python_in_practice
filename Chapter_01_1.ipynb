{
 "cells": [
  {
   "cell_type": "markdown",
   "metadata": {},
   "source": [
    "# 実践 Python 3 輪読会\n",
    "\n",
    "PyLadies Tokyo 輪読会 #1 (2016-01-20)  \n",
    "本家ページ：http://www.qtrac.eu/pipbook.html"
   ]
  },
  {
   "cell_type": "markdown",
   "metadata": {},
   "source": [
    "# 生成に関するデザインパターン\n",
    "\n",
    "- 一般的にオブジェクトを生成する際にはそのオブジェクトのコンストラクタを呼ぶ\n",
    "\n",
    "※※　クラスとコンストラクタの説明が必要？　※※"
   ]
  },
  {
   "cell_type": "code",
   "execution_count": 20,
   "metadata": {
    "collapsed": false
   },
   "outputs": [
    {
     "name": "stdout",
     "output_type": "stream",
     "text": [
      "poti\n",
      "走ってるよ\n",
      "\n",
      "kuro\n",
      "走ってるよ\n",
      "shiro\n"
     ]
    }
   ],
   "source": [
    "class Dog:\n",
    "    def __init__(self, name, owner=None):\n",
    "        self.name = name\n",
    "        self.owner = owner\n",
    "    \n",
    "    def run(self):\n",
    "        return '走ってるよ'\n",
    "\n",
    "        \n",
    "dog1 = Dog(name='poti', owner='pyladies')\n",
    "print(dog1.name)\n",
    "print(dog1.run())\n",
    "\n",
    "print()\n",
    "\n",
    "dog2 = Dog(name='kuro', owner='pyladies')\n",
    "print(dog2.name)\n",
    "print(dog2.run())\n",
    "\n",
    "dog2.name = 'shiro'\n",
    "print(dog2.name)"
   ]
  },
  {
   "cell_type": "code",
   "execution_count": null,
   "metadata": {
    "collapsed": true
   },
   "outputs": [],
   "source": [
    "import pandas as pd\n",
    "\n",
    "df = pd.DataFrame()\n",
    "\n",
    "df.merge\n",
    "df.sort"
   ]
  },
  {
   "cell_type": "code",
   "execution_count": 16,
   "metadata": {
    "collapsed": false
   },
   "outputs": [
    {
     "data": {
      "text/plain": [
       "<__main__.Diagram at 0x104a99470>"
      ]
     },
     "execution_count": 16,
     "metadata": {},
     "output_type": "execute_result"
    }
   ],
   "source": [
    "# オブジェクトを生成する一例\n",
    "#（正確にはPythonの__new__や__init__はコンストラクタではない）\n",
    "\n",
    "class Diagram():\n",
    "    pass\n",
    "\n",
    "# Personオブジェクトを生成\n",
    "diagram = Diagram()\n",
    "diagram"
   ]
  },
  {
   "cell_type": "code",
   "execution_count": 2,
   "metadata": {
    "collapsed": false
   },
   "outputs": [
    {
     "data": {
      "text/plain": [
       "__main__.Diagram"
      ]
     },
     "execution_count": 2,
     "metadata": {},
     "output_type": "execute_result"
    }
   ],
   "source": [
    "diagram = Diagram\n",
    "diagram"
   ]
  },
  {
   "cell_type": "markdown",
   "metadata": {},
   "source": [
    "- オブジェクトの生成方法をもっと柔軟にしたい → 生成に関するデザインパターンが便利 (本章で紹介)\n",
    "- 中にはPythonに関係ないデザインパターン (=C++向け) もあるのでそちらも確認"
   ]
  },
  {
   "cell_type": "markdown",
   "metadata": {},
   "source": [
    "## 1.1 Abstract Factory パターン + α\n",
    "\n",
    "- 他のオブジェクトから構成される複雑なオブジェクトを構成する際に利用するパターン  \n",
    "- 整合性を必要とされるオブジェクト群を間違いなく生成することが出来る\n",
    "\n",
    "なんのこっちゃと思うので例を見ていきます"
   ]
  },
  {
   "cell_type": "markdown",
   "metadata": {},
   "source": [
    "### 1.1.1 古典的な Abstract Factory\n",
    "\n",
    "図形を生成するプログラムについて考える (diagram1.py)  \n",
    "ここでは以下の2つの Factory を考える\n",
    "\n",
    "- プレーンテキストの図形を生成するDiagramFactory\n",
    "- SVG形式の図形を生成するSVGDiagramFactory"
   ]
  },
  {
   "cell_type": "code",
   "execution_count": 3,
   "metadata": {
    "collapsed": true
   },
   "outputs": [],
   "source": [
    "def main():\n",
    "    txt_diagram = create_diagram(TxtDiagramFactory())  # プレーンテキストの図形を生成\n",
    "    txt_diagram.save(\"img/diagram.txt\")                             # 生成した図形を保存\n",
    "    print(\"wrote img/diagram.txt\")\n",
    "\n",
    "    svg_diagram = create_diagram(SvgDiagramFactory())  # SVG形式の図形を生成\n",
    "    svg_diagram.save(\"img/diagram.svg\")                             # 生成した図形を保存\n",
    "    print(\"wrote img/diagram.svg\")"
   ]
  },
  {
   "cell_type": "markdown",
   "metadata": {},
   "source": [
    "両方で呼び出されている `create_diagram` って何？"
   ]
  },
  {
   "cell_type": "code",
   "execution_count": 4,
   "metadata": {
    "collapsed": true
   },
   "outputs": [],
   "source": [
    "def create_diagram(factory):                                                 # 1\n",
    "    diagram = factory.make_diagram(30, 7)                          # 2\n",
    "    text = factory.make_text(7, 3, \"Abstract Factory\")      # 3\n",
    "    diagram.add(text)                                                                # 4\n",
    "    return diagram                                                                      # 5"
   ]
  },
  {
   "cell_type": "code",
   "execution_count": null,
   "metadata": {
    "collapsed": true
   },
   "outputs": [],
   "source": [
    "def create_diagram():\n",
    "    diagram = TxtDiagram(30, 7)\n",
    "    text = TxtText(7, 3, \"Abstract Factory\")\n",
    "    diagram.add(text)\n",
    "    return diagram"
   ]
  },
  {
   "cell_type": "markdown",
   "metadata": {},
   "source": [
    "どんな流れになっているのかというと，\n",
    "\n",
    "1. 何かしらの図形ファクトリーを受け取って\n",
    "2. 図形ファクトリーの `make_diagram` メソッドを使って指定したサイズで図形を作成\n",
    "3. 指定したサイズで「Abstract Factory」という文字を生成\n",
    "4. 生成した文字を図形に追加\n",
    "5. 図形が完成．生成した図形を呼び出し元に返す\n",
    "\n",
    "肝心の図形ファクトリーはどうなっている？"
   ]
  },
  {
   "cell_type": "code",
   "execution_count": null,
   "metadata": {
    "collapsed": true
   },
   "outputs": [],
   "source": [
    "class TxtDiagramFactory:\n",
    "    def make_diagram(self, width, height):\n",
    "        return TxtDiagram(width, height)\n",
    "\n",
    "    def make_text(self, x, y, text, fontsize=12):\n",
    "        return TxtText(x, y, text, fontsize)\n",
    "\n",
    "    \n",
    "class SvgDiagramFactory(DiagramFactory):\n",
    "    def make_diagram(self, width, height):\n",
    "        return SvgDiagram(width, height)\n",
    "\n",
    "    def make_text(self, x, y, text, fontsize=12):\n",
    "        return SvgText(x, y, text, fontsize)"
   ]
  },
  {
   "cell_type": "markdown",
   "metadata": {
    "collapsed": true
   },
   "source": [
    "図形ファクトリーはどちらも同じインタフェースを提供している  \n",
    "→ 同じメソッドを提供している ( `make_diagrame` ，  `make_text` )\n",
    "\n",
    "しかしどちらも呼び出された後に返しているオブジェクトが違う  \n",
    "→ `TxtDiagramFactory` だと `TxtDiagram` ，`SvgDiagramFactory` だと `SvgDiagram`\n",
    "\n",
    "__何が嬉しいのか？__\n",
    "\n",
    "- どちらの図形ファクトリーも同じインタフェースを利用しているので，呼び出す側は両者の違いを意識しなくても良い\n",
    "  - `create_diagram` の中身を改めて確認\n",
    "- `TxtDiagramFactory` を利用しているときには `TxtDiagram` ， `SvgDiagramFactory` を利用しているときには `SvgDiagram` など，意識しなくても対応したオブジェクトを利用できる"
   ]
  },
  {
   "cell_type": "code",
   "execution_count": null,
   "metadata": {
    "collapsed": true
   },
   "outputs": [],
   "source": [
    "# TxtDiagramやSvgDiagramの実装は全く違う！\n",
    "# （一部省略）\n",
    "\n",
    "txt_diagram = TxtDiagram()\n",
    "txt_diagram.width\n",
    "\n",
    "class TxtDiagram:\n",
    "    def __init__(self, width, height):\n",
    "        self.width = width\n",
    "        self.height = height\n",
    "        self.diagram = _create_rectangle(self.width, self.height, BLANK)\n",
    "\n",
    "    def add(self, component):\n",
    "        for y, row in enumerate(component.rows):\n",
    "            for x, char in enumerate(row):\n",
    "                self.diagram[y + component.y][x + component.x] = char\n",
    "                \n",
    "class SvgDiagram:\n",
    "    def __init__(self, width, height):\n",
    "        pxwidth = width * SVG_SCALE\n",
    "        pxheight = height * SVG_SCALE\n",
    "        self.diagram = [SVG_START.format(**locals())]\n",
    "        outline = SvgRectangle(0, 0, width, height, \"lightgreen\", \"black\")\n",
    "        self.diagram.append(outline.svg)\n",
    "\n",
    "    def add(self, component):\n",
    "        self.diagram.append(component.svg)"
   ]
  },
  {
   "cell_type": "markdown",
   "metadata": {},
   "source": [
    "※※　ここで需要があれば `Abstract Factory` パターンを使わなかった場合のデモする　※※"
   ]
  },
  {
   "cell_type": "markdown",
   "metadata": {},
   "source": [
    "### 1.1.2 パイソニックな Abstract Factory\n",
    "\n",
    "上記のコードは良い例だが，いくつか欠点がある\n",
    "\n",
    "1. ファクトリーのインスタンスは実際に生成する必要がない\n",
    "2. `TxtDiagramFactory` と `SvgDiagramFactory` のコードがほとんど同じ\n",
    "3. 最上位の名前空間にすべてのクラスが存在する (e.g. TxtDiagram, TxtRectangle)\n",
    "\n",
    "どうすれば良いのか？ (`diagram2.py` を確認しつつ)\n",
    "\n",
    "1. `make_diagram` などのメソッドをクラスメソッドにしてしまう（`@classmethod` を利用する．第一引数は `Class` になる）\n",
    "2. `SvgDiagramFactory` で `TxtDiagramFactory` を継承する + 3の変更\n",
    "3. `TxtDiagram`，`TxtRectangle` といったクラスを `TxtDiagramFactory` の中に入れてしまう (更に `Txt` という `prefix` をとる．`SvgDiagramFactory` についても同様)"
   ]
  },
  {
   "cell_type": "markdown",
   "metadata": {},
   "source": [
    "--------\n",
    "\n",
    "__インスタンスメソッド / クラスメソッド__"
   ]
  },
  {
   "cell_type": "code",
   "execution_count": 25,
   "metadata": {
    "collapsed": true
   },
   "outputs": [],
   "source": [
    "class Dog:\n",
    "    animal_type = 'mammalia'\n",
    "    \n",
    "    # self.*** はインスタンスメソッドへのアクセス\n",
    "    def __init__(self, name, owner):\n",
    "        self.name = name\n",
    "        self.owner = owner\n",
    "        \n",
    "    @classmethod\n",
    "    def bark(cls):\n",
    "        return 'bow-wow'\n",
    "    \n",
    "    def get_owner(self):\n",
    "        return self.owner\n",
    "    \n",
    "    def change_owner(self, owner):\n",
    "        self.owner = owner"
   ]
  },
  {
   "cell_type": "code",
   "execution_count": 26,
   "metadata": {
    "collapsed": false
   },
   "outputs": [
    {
     "data": {
      "text/plain": [
       "'kyoto'"
      ]
     },
     "execution_count": 26,
     "metadata": {},
     "output_type": "execute_result"
    }
   ],
   "source": [
    "dog1 = Dog('pochi', 'tokyo')\n",
    "dog1.change_owner('kyoto')\n",
    "dog1.owner"
   ]
  },
  {
   "cell_type": "code",
   "execution_count": 4,
   "metadata": {
    "collapsed": false
   },
   "outputs": [
    {
     "name": "stdout",
     "output_type": "stream",
     "text": [
      "animal_type: mammalia\n",
      "bark: bow-wow\n"
     ]
    },
    {
     "ename": "AttributeError",
     "evalue": "type object 'Dog' has no attribute 'name'",
     "output_type": "error",
     "traceback": [
      "\u001b[0;31m---------------------------------------------------------------------------\u001b[0m",
      "\u001b[0;31mAttributeError\u001b[0m                            Traceback (most recent call last)",
      "\u001b[0;32m<ipython-input-4-3963c9f9f079>\u001b[0m in \u001b[0;36m<module>\u001b[0;34m()\u001b[0m\n\u001b[1;32m      3\u001b[0m \u001b[0mprint\u001b[0m\u001b[0;34m(\u001b[0m\u001b[0;34m'animal_type: {0}'\u001b[0m\u001b[0;34m.\u001b[0m\u001b[0mformat\u001b[0m\u001b[0;34m(\u001b[0m\u001b[0mdog\u001b[0m\u001b[0;34m.\u001b[0m\u001b[0manimal_type\u001b[0m\u001b[0;34m)\u001b[0m\u001b[0;34m)\u001b[0m\u001b[0;34m\u001b[0m\u001b[0m\n\u001b[1;32m      4\u001b[0m \u001b[0mprint\u001b[0m\u001b[0;34m(\u001b[0m\u001b[0;34m'bark: {0}'\u001b[0m\u001b[0;34m.\u001b[0m\u001b[0mformat\u001b[0m\u001b[0;34m(\u001b[0m\u001b[0mdog\u001b[0m\u001b[0;34m.\u001b[0m\u001b[0mbark\u001b[0m\u001b[0;34m(\u001b[0m\u001b[0;34m)\u001b[0m\u001b[0;34m)\u001b[0m\u001b[0;34m)\u001b[0m\u001b[0;34m\u001b[0m\u001b[0m\n\u001b[0;32m----> 5\u001b[0;31m \u001b[0mprint\u001b[0m\u001b[0;34m(\u001b[0m\u001b[0;34m'name: {0}'\u001b[0m\u001b[0;34m.\u001b[0m\u001b[0mformat\u001b[0m\u001b[0;34m(\u001b[0m\u001b[0mdog\u001b[0m\u001b[0;34m.\u001b[0m\u001b[0mname\u001b[0m\u001b[0;34m)\u001b[0m\u001b[0;34m)\u001b[0m\u001b[0;34m\u001b[0m\u001b[0m\n\u001b[0m",
      "\u001b[0;31mAttributeError\u001b[0m: type object 'Dog' has no attribute 'name'"
     ]
    }
   ],
   "source": [
    "dog = Dog  # インスタンスを生成していない\n",
    "\n",
    "print('animal_type: {0}'.format(dog.animal_type))\n",
    "print('bark: {0}'.format(dog.bark()))\n",
    "print('name: {0}'.format(dog.name))"
   ]
  },
  {
   "cell_type": "code",
   "execution_count": 5,
   "metadata": {
    "collapsed": false
   },
   "outputs": [
    {
     "ename": "TypeError",
     "evalue": "get_owner() missing 1 required positional argument: 'self'",
     "output_type": "error",
     "traceback": [
      "\u001b[0;31m---------------------------------------------------------------------------\u001b[0m",
      "\u001b[0;31mTypeError\u001b[0m                                 Traceback (most recent call last)",
      "\u001b[0;32m<ipython-input-5-740f5044d0c8>\u001b[0m in \u001b[0;36m<module>\u001b[0;34m()\u001b[0m\n\u001b[0;32m----> 1\u001b[0;31m \u001b[0mprint\u001b[0m\u001b[0;34m(\u001b[0m\u001b[0;34m'owner: {0}'\u001b[0m\u001b[0;34m.\u001b[0m\u001b[0mformat\u001b[0m\u001b[0;34m(\u001b[0m\u001b[0mdog\u001b[0m\u001b[0;34m.\u001b[0m\u001b[0mget_owner\u001b[0m\u001b[0;34m(\u001b[0m\u001b[0;34m)\u001b[0m\u001b[0;34m)\u001b[0m\u001b[0;34m)\u001b[0m\u001b[0;34m\u001b[0m\u001b[0m\n\u001b[0m",
      "\u001b[0;31mTypeError\u001b[0m: get_owner() missing 1 required positional argument: 'self'"
     ]
    }
   ],
   "source": [
    "print('owner: {0}'.format(dog.get_owner()))"
   ]
  },
  {
   "cell_type": "code",
   "execution_count": 6,
   "metadata": {
    "collapsed": false
   },
   "outputs": [
    {
     "name": "stdout",
     "output_type": "stream",
     "text": [
      "animal_type: mammalia\n",
      "bark: bow-wow\n",
      "name: pochi\n",
      "owner: Ai\n"
     ]
    }
   ],
   "source": [
    "dog = Dog(name='pochi', owner='Ai')  # インスタンスを生成している\n",
    "\n",
    "print('animal_type: {0}'.format(dog.animal_type))\n",
    "print('bark: {0}'.format(dog.bark()))\n",
    "print('name: {0}'.format(dog.name))\n",
    "print('owner: {0}'.format(dog.get_owner()))"
   ]
  },
  {
   "cell_type": "code",
   "execution_count": 7,
   "metadata": {
    "collapsed": false
   },
   "outputs": [
    {
     "name": "stdout",
     "output_type": "stream",
     "text": [
      "976\n",
      "56\n"
     ]
    }
   ],
   "source": [
    "import sys\n",
    "\n",
    "print(sys.getsizeof(Dog))\n",
    "print(sys.getsizeof(dog))"
   ]
  },
  {
   "cell_type": "code",
   "execution_count": null,
   "metadata": {
    "collapsed": true
   },
   "outputs": [],
   "source": []
  }
 ],
 "metadata": {
  "kernelspec": {
   "display_name": "Python 3",
   "language": "python",
   "name": "python3"
  },
  "language_info": {
   "codemirror_mode": {
    "name": "ipython",
    "version": 3
   },
   "file_extension": ".py",
   "mimetype": "text/x-python",
   "name": "python",
   "nbconvert_exporter": "python",
   "pygments_lexer": "ipython3",
   "version": "3.4.3"
  }
 },
 "nbformat": 4,
 "nbformat_minor": 0
}
